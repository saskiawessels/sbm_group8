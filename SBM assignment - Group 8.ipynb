{
 "cells": [
  {
   "cell_type": "code",
   "execution_count": null,
   "metadata": {},
   "outputs": [],
   "source": [
    "import numpy as np\n",
    "import pandas as pd\n",
    "import matplotlib.pyplot as plt\n",
    "import seaborn as sns\n",
    "import statsmodels.formula.api as smf"
   ]
  },
  {
   "cell_type": "markdown",
   "metadata": {},
   "source": [
    "## Load data"
   ]
  },
  {
   "cell_type": "code",
   "execution_count": null,
   "metadata": {
    "scrolled": true
   },
   "outputs": [],
   "source": [
    "import pandas as pd\n",
    "from sklearn.preprocessing import Normalizer, StandardScaler\n",
    "norm = Normalizer()\n",
    "\n",
    "end_df = pd.read_csv(\"end_df.csv\")\n",
    "posts_companies_df = pd.read_csv(\"posts_companies_df.csv\")\n",
    "\n",
    "end_df[\"abs_growth_norm\"] = norm.fit_transform(end_df[[\"abs_growth\"]])\n",
    "end_df[\"abs_growth_log\"] = np.log(end_df[\"abs_growth\"])\n",
    "end_df[\"abs_growth_root\"] = end_df[\"abs_growth\"]**(1/2)\n",
    "\n",
    "posts_companies_df[\"abs_growth_norm\"] = norm.fit_transform(posts_companies_df[[\"abs_growth\"]])\n",
    "posts_companies_df[\"abs_growth_log\"] = np.log(posts_companies_df[\"abs_growth\"])\n",
    "posts_companies_df[\"abs_growth_root\"] = posts_companies_df[\"abs_growth\"]**(1/2)"
   ]
  },
  {
   "cell_type": "code",
   "execution_count": null,
   "metadata": {},
   "outputs": [],
   "source": [
    "end_df.abs_growth.value_counts()"
   ]
  },
  {
   "cell_type": "markdown",
   "metadata": {},
   "source": [
    "## Checking assumptions"
   ]
  },
  {
   "cell_type": "markdown",
   "metadata": {},
   "source": [
    "### Assumption 1: Linearity between dv and iv"
   ]
  },
  {
   "cell_type": "markdown",
   "metadata": {},
   "source": [
    "#### Check on the whole dataframe, i.e. including companies that did not post any updates"
   ]
  },
  {
   "cell_type": "code",
   "execution_count": null,
   "metadata": {},
   "outputs": [],
   "source": [
    "p = sns.relplot(x=\"nb_trans_words\", y=\"abs_growth\", data=end_df)\n",
    "plt.title('Linear Relation')\n",
    "p.set(ylim=(0,50000), xlim=(0,350))"
   ]
  },
  {
   "cell_type": "markdown",
   "metadata": {},
   "source": [
    "#### Whole dataframe only with standardized dv"
   ]
  },
  {
   "cell_type": "code",
   "execution_count": null,
   "metadata": {},
   "outputs": [],
   "source": [
    "p = sns.relplot(x=\"nb_trans_words\", y=\"abs_growth_stand\", data=end_df)\n",
    "plt.title('Linear Relation')\n",
    "p.set(ylim=(0,1), xlim=(0,350))"
   ]
  },
  {
   "cell_type": "markdown",
   "metadata": {},
   "source": [
    "#### Check assumption 1 on dataset contaning only companies that posted updates."
   ]
  },
  {
   "cell_type": "code",
   "execution_count": null,
   "metadata": {},
   "outputs": [],
   "source": [
    "p = sns.relplot(x=\"nb_trans_words\", y=\"abs_growth\", data=posts_companies_df)\n",
    "plt.title('Linear Relation')\n",
    "p.set(ylim=(0,50000), xlim=(0,350))"
   ]
  },
  {
   "cell_type": "markdown",
   "metadata": {},
   "source": [
    "#### Check assumption 1 on dataset conating only companies that posted updates with standardized dv"
   ]
  },
  {
   "cell_type": "code",
   "execution_count": null,
   "metadata": {},
   "outputs": [],
   "source": [
    "p = sns.relplot(x=\"nb_trans_words\", y=\"abs_growth_stand\", data=posts_companies_df)\n",
    "plt.title('Linear Relation')\n",
    "p.set(ylim=(-0.2,1), xlim=(0,350))"
   ]
  },
  {
   "cell_type": "markdown",
   "metadata": {},
   "source": [
    "### Assumption 2: There are no influential cases biasing the model"
   ]
  },
  {
   "cell_type": "markdown",
   "metadata": {},
   "source": [
    "#### Check assumption 2 on regression 1"
   ]
  },
  {
   "cell_type": "code",
   "execution_count": null,
   "metadata": {
    "scrolled": true
   },
   "outputs": [],
   "source": [
    "regression1 = smf.ols('abs_growth_stand ~ nb_trans_words+ nb_words+ nb_posts+ nb_weeks_active+ goal', data=end_df).fit()\n",
    "print(regression1.summary())"
   ]
  },
  {
   "cell_type": "markdown",
   "metadata": {},
   "source": [
    "#### Check assumption 2 on regression 2 and 3"
   ]
  },
  {
   "cell_type": "code",
   "execution_count": null,
   "metadata": {},
   "outputs": [],
   "source": [
    "regression2 = smf.ols('abs_growth_stand ~ nb_neg_sentiment + nb_trans_words:nb_neg_sentiment + nb_pos_sentiment + nb_trans_words:nb_pos_sentiment + nb_trans_words+ nb_words+ nb_posts+ nb_weeks_active+ goal', data=posts_companies_df).fit()\n",
    "print(regression2.summary())"
   ]
  },
  {
   "cell_type": "code",
   "execution_count": null,
   "metadata": {},
   "outputs": [],
   "source": [
    "infl1 = regression1.get_influence()\n",
    "sm_fr1 = infl1.summary_frame()\n",
    "index1 = sm_fr1[sm_fr1['cooks_d']>1].index\n",
    "index1"
   ]
  },
  {
   "cell_type": "code",
   "execution_count": null,
   "metadata": {},
   "outputs": [],
   "source": [
    "infl2 = regression2.get_influence()\n",
    "sm_fr2 = infl2.summary_frame()\n",
    "index2 = sm_fr2[sm_fr2['cooks_d']>1].index\n",
    "index2"
   ]
  },
  {
   "cell_type": "markdown",
   "metadata": {},
   "source": [
    "### remove records"
   ]
  },
  {
   "cell_type": "code",
   "execution_count": null,
   "metadata": {},
   "outputs": [],
   "source": [
    "end_df_no_outliers = end_df.drop(index1)\n",
    "posts_no_outliers = posts_companies_df.drop(index2)"
   ]
  },
  {
   "cell_type": "markdown",
   "metadata": {},
   "source": [
    "### Redo regressions with new data"
   ]
  },
  {
   "cell_type": "code",
   "execution_count": null,
   "metadata": {},
   "outputs": [],
   "source": [
    "regression1 = smf.ols('abs_growth_stand ~ nb_neg_sentiment + nb_trans_words:nb_neg_sentiment + nb_pos_sentiment + nb_trans_words:nb_pos_sentiment + nb_trans_words+ nb_words+ nb_posts+ nb_weeks_active+ goal', data=end_df_no_outliers).fit()\n",
    "print(regression1.summary())"
   ]
  },
  {
   "cell_type": "code",
   "execution_count": null,
   "metadata": {},
   "outputs": [],
   "source": [
    "regression2 = smf.ols('abs_growth_stand ~ nb_neg_sentiment + nb_trans_words:nb_neg_sentiment + nb_pos_sentiment + nb_trans_words:nb_pos_sentiment + nb_trans_words+ nb_words+ nb_posts+ nb_weeks_active+ goal', data=posts_no_outliers).fit()\n",
    "print(regression2.summary()) "
   ]
  },
  {
   "cell_type": "markdown",
   "metadata": {},
   "source": [
    "### Assumption 3: Residuals are normally distributed"
   ]
  },
  {
   "cell_type": "markdown",
   "metadata": {},
   "source": [
    "#### Check assumption 3 on regression 1"
   ]
  },
  {
   "cell_type": "code",
   "execution_count": null,
   "metadata": {},
   "outputs": [],
   "source": [
    "import numpy as np \n",
    "import pylab \n",
    "import scipy.stats as stats\n",
    "\n",
    "residuals_end_df = regression1.resid \n",
    "fig, ax = plt.subplots(figsize=(6, 3))\n",
    "fig = stats.probplot(residuals_end_df, dist=\"norm\", plot=pylab)\n",
    "\n",
    "# ax.set_yscale('log')\n",
    "ax.set_ylim(bottom=-10, top=20)\n",
    "sns.despine()"
   ]
  },
  {
   "cell_type": "markdown",
   "metadata": {},
   "source": [
    "#### Check assumption 3 on regression 2 and 3"
   ]
  },
  {
   "cell_type": "code",
   "execution_count": null,
   "metadata": {},
   "outputs": [],
   "source": [
    "import numpy as np \n",
    "import pylab \n",
    "import scipy.stats as stats\n",
    "\n",
    "residuals_post_df = regression2.resid \n",
    "fig, ax = plt.subplots(figsize=(6, 3))\n",
    "fig = stats.probplot(residuals_post_df, dist=\"norm\", plot=pylab)\n",
    "\n",
    "# ax.set_yscale('log')\n",
    "ax.set_ylim(bottom=-10, top=20)\n",
    "sns.despine()"
   ]
  },
  {
   "cell_type": "markdown",
   "metadata": {},
   "source": [
    "### Assumption 4: Homoscedasticity"
   ]
  },
  {
   "cell_type": "markdown",
   "metadata": {},
   "source": [
    "#### Check assumption 4 on regression 1"
   ]
  },
  {
   "cell_type": "code",
   "execution_count": null,
   "metadata": {},
   "outputs": [],
   "source": [
    "pred_val_end_df = regression1.fittedvalues.copy()\n",
    "fig, ax = plt.subplots(figsize=(6,2.5))\n",
    "ax.set_xlim(-5, 10)\n",
    "plt.xlabel(\"Residual\")\n",
    "plt.ylabel(\"Prediction\")\n",
    "ax.set_ylim(-1, 5)\n",
    "\n",
    "_ = ax.scatter(residuals_end_df, pred_val_end_df)"
   ]
  },
  {
   "cell_type": "markdown",
   "metadata": {},
   "source": [
    "#### Check assumption 4 on regression 2 and 3"
   ]
  },
  {
   "cell_type": "code",
   "execution_count": null,
   "metadata": {},
   "outputs": [],
   "source": [
    "pred_val_post_df = regression2.fittedvalues.copy()\n",
    "fig, ax = plt.subplots(figsize=(6,2.5))\n",
    "ax.set_xlim(-5, 10)\n",
    "plt.xlabel(\"Residual\")\n",
    "plt.ylabel(\"Prediction\")\n",
    "ax.set_ylim(-1, 5)\n",
    "\n",
    "_ = ax.scatter(residuals_post_df, pred_val_post_df)"
   ]
  },
  {
   "cell_type": "markdown",
   "metadata": {},
   "source": [
    "### Assumption 5: No multicolinearity"
   ]
  },
  {
   "cell_type": "markdown",
   "metadata": {},
   "source": [
    "### Assumption 6: DV must be normally distributed"
   ]
  },
  {
   "cell_type": "markdown",
   "metadata": {},
   "source": [
    "#### Check assumption 6 on regression 1"
   ]
  },
  {
   "cell_type": "code",
   "execution_count": null,
   "metadata": {
    "scrolled": true
   },
   "outputs": [],
   "source": [
    "fig, ax = plt.subplots(figsize=(6, 3))\n",
    "fig = stats.probplot(end_df_no_outliers.abs_growth_stand, dist=\"norm\", plot=pylab)\n",
    "\n",
    "# ax.set_yscale('log')\n",
    "ax.set_ylim(bottom=-10, top=10)\n",
    "sns.despine()\n"
   ]
  },
  {
   "cell_type": "code",
   "execution_count": null,
   "metadata": {},
   "outputs": [],
   "source": [
    "import statsmodels\n",
    "statsmodels.stats.stattools.robust_skewness(end_df_no_outliers.abs_growth_stand)"
   ]
  },
  {
   "cell_type": "code",
   "execution_count": null,
   "metadata": {},
   "outputs": [],
   "source": [
    "from scipy.stats import kurtosis\n",
    "kurtosis(end_df_no_outliers.abs_growth_stand)"
   ]
  },
  {
   "cell_type": "markdown",
   "metadata": {},
   "source": [
    "#### Check assumption 6 on regression 2 and 3"
   ]
  },
  {
   "cell_type": "code",
   "execution_count": null,
   "metadata": {},
   "outputs": [],
   "source": [
    "import statsmodels\n",
    "statsmodels.stats.stattools.robust_skewness(posts_no_outliers.abs_growth_stand)"
   ]
  },
  {
   "cell_type": "code",
   "execution_count": null,
   "metadata": {},
   "outputs": [],
   "source": [
    "from scipy.stats import kurtosis\n",
    "kurtosis(posts_no_outliers.abs_growth_stand)"
   ]
  },
  {
   "cell_type": "code",
   "execution_count": null,
   "metadata": {},
   "outputs": [],
   "source": [
    "fig, ax = plt.subplots(figsize=(6, 3))\n",
    "fig = stats.probplot(posts_no_outliers.abs_growth_stand, dist=\"norm\", plot=pylab)\n",
    "\n",
    "# ax.set_yscale('log')\n",
    "ax.set_ylim(bottom=-10, top=10)\n",
    "sns.despine()"
   ]
  },
  {
   "cell_type": "code",
   "execution_count": null,
   "metadata": {},
   "outputs": [],
   "source": [
    "posts_companies_df.describe()"
   ]
  },
  {
   "cell_type": "code",
   "execution_count": null,
   "metadata": {},
   "outputs": [],
   "source": [
    "end_df.describe()"
   ]
  }
 ],
 "metadata": {
  "kernelspec": {
   "display_name": "Python 3",
   "language": "python",
   "name": "python3"
  },
  "language_info": {
   "codemirror_mode": {
    "name": "ipython",
    "version": 3
   },
   "file_extension": ".py",
   "mimetype": "text/x-python",
   "name": "python",
   "nbconvert_exporter": "python",
   "pygments_lexer": "ipython3",
   "version": "3.7.3"
  }
 },
 "nbformat": 4,
 "nbformat_minor": 2
}
